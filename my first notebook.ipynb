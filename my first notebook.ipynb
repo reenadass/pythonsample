{
 "cells": [
  {
   "cell_type": "code",
   "execution_count": 2,
   "metadata": {
    "collapsed": false
   },
   "outputs": [
    {
     "name": "stdout",
     "output_type": "stream",
     "text": [
      "Populating the interactive namespace from numpy and matplotlib\n"
     ]
    }
   ],
   "source": [
    "%pylab inline"
   ]
  },
  {
   "cell_type": "code",
   "execution_count": 1,
   "metadata": {
    "collapsed": true
   },
   "outputs": [],
   "source": [
    "import os,sys, glob"
   ]
  },
  {
   "cell_type": "markdown",
   "metadata": {},
   "source": [
    "## heading 1\n",
    "This is my first program:\n",
    "- bullet 1\n",
    "- bullet 2"
   ]
  },
  {
   "cell_type": "code",
   "execution_count": 7,
   "metadata": {
    "collapsed": false
   },
   "outputs": [
    {
     "name": "stdout",
     "output_type": "stream",
     "text": [
      "test1.cpp\n"
     ]
    }
   ],
   "source": [
    "files =  glob.glob(\"/home/rdass/Work/MyFirstCPPProject/*.cpp\")\n",
    "for aFile in files:\n",
    "    print os.path.basename(aFile)"
   ]
  },
  {
   "cell_type": "code",
   "execution_count": 8,
   "metadata": {
    "collapsed": true
   },
   "outputs": [],
   "source": [
    "def printHello():\n",
    "    print 'hello world'"
   ]
  },
  {
   "cell_type": "code",
   "execution_count": 10,
   "metadata": {
    "collapsed": false
   },
   "outputs": [
    {
     "name": "stdout",
     "output_type": "stream",
     "text": [
      "hello world\n"
     ]
    }
   ],
   "source": [
    "printHello()"
   ]
  },
  {
   "cell_type": "code",
   "execution_count": 13,
   "metadata": {
    "collapsed": false
   },
   "outputs": [
    {
     "ename": "ImportError",
     "evalue": "No module named sandbox2.hello1",
     "output_type": "error",
     "traceback": [
      "\u001b[1;31m---------------------------------------------------------------------------\u001b[0m",
      "\u001b[1;31mImportError\u001b[0m                               Traceback (most recent call last)",
      "\u001b[1;32m/home/rdass/pythonProjects/sandbox/hello.py\u001b[0m in \u001b[0;36m<module>\u001b[1;34m()\u001b[0m\n\u001b[0;32m      5\u001b[0m \u001b[0mThis\u001b[0m \u001b[1;32mis\u001b[0m \u001b[0ma\u001b[0m \u001b[0mtemporary\u001b[0m \u001b[0mscript\u001b[0m \u001b[0mfile\u001b[0m\u001b[1;33m.\u001b[0m\u001b[1;33m\u001b[0m\u001b[0m\n\u001b[0;32m      6\u001b[0m \"\"\"\n\u001b[1;32m----> 7\u001b[1;33m \u001b[1;32mfrom\u001b[0m \u001b[0msandbox2\u001b[0m\u001b[1;33m.\u001b[0m\u001b[0mhello1\u001b[0m \u001b[1;32mimport\u001b[0m \u001b[0mprintHello\u001b[0m\u001b[1;33m\u001b[0m\u001b[0m\n\u001b[0m\u001b[0;32m      8\u001b[0m \u001b[1;33m\u001b[0m\u001b[0m\n\u001b[0;32m      9\u001b[0m \u001b[0mprintHello\u001b[0m\u001b[1;33m(\u001b[0m\u001b[1;33m)\u001b[0m\u001b[1;33m\u001b[0m\u001b[0m\n",
      "\u001b[1;31mImportError\u001b[0m: No module named sandbox2.hello1"
     ]
    }
   ],
   "source": [
    "%run hello.py"
   ]
  },
  {
   "cell_type": "code",
   "execution_count": 3,
   "metadata": {
    "collapsed": false
   },
   "outputs": [
    {
     "name": "stdout",
     "output_type": "stream",
     "text": [
      "['', '/home/rdass/anaconda2/lib/python27.zip', '/home/rdass/anaconda2/lib/python2.7', '/home/rdass/anaconda2/lib/python2.7/plat-linux2', '/home/rdass/anaconda2/lib/python2.7/lib-tk', '/home/rdass/anaconda2/lib/python2.7/lib-old', '/home/rdass/anaconda2/lib/python2.7/lib-dynload', '/home/rdass/anaconda2/lib/python2.7/site-packages/Sphinx-1.3.5-py2.7.egg', '/home/rdass/anaconda2/lib/python2.7/site-packages/setuptools-20.3-py2.7.egg', '/home/rdass/anaconda2/lib/python2.7/site-packages', '/home/rdass/anaconda2/lib/python2.7/site-packages/IPython/extensions', '/home/rdass/.ipython']\n"
     ]
    }
   ],
   "source": [
    "print sys.path"
   ]
  },
  {
   "cell_type": "code",
   "execution_count": 6,
   "metadata": {
    "collapsed": false
   },
   "outputs": [],
   "source": [
    "sys.path.append(\"/home/rdass/pythonProjects/sandbox2\")\n",
    "if \"PYTHONPATH\" not in  os.environ:\n",
    "    os.environ[\"PYTHONPATH\"] = '/home/rdass/pythonProjects/sandbox2'"
   ]
  },
  {
   "cell_type": "code",
   "execution_count": 7,
   "metadata": {
    "collapsed": false
   },
   "outputs": [
    {
     "name": "stdout",
     "output_type": "stream",
     "text": [
      "['', '/home/rdass/anaconda2/lib/python27.zip', '/home/rdass/anaconda2/lib/python2.7', '/home/rdass/anaconda2/lib/python2.7/plat-linux2', '/home/rdass/anaconda2/lib/python2.7/lib-tk', '/home/rdass/anaconda2/lib/python2.7/lib-old', '/home/rdass/anaconda2/lib/python2.7/lib-dynload', '/home/rdass/anaconda2/lib/python2.7/site-packages/Sphinx-1.3.5-py2.7.egg', '/home/rdass/anaconda2/lib/python2.7/site-packages/setuptools-20.3-py2.7.egg', '/home/rdass/anaconda2/lib/python2.7/site-packages', '/home/rdass/anaconda2/lib/python2.7/site-packages/IPython/extensions', '/home/rdass/.ipython', '/home/rdass/pythonProjects/sandbox2', '~/pythonProjects/sandbox2', '/home/rdass/pythonProjects/sandbox2']\n"
     ]
    }
   ],
   "source": [
    "print sys.path"
   ]
  },
  {
   "cell_type": "code",
   "execution_count": 8,
   "metadata": {
    "collapsed": false
   },
   "outputs": [
    {
     "name": "stdout",
     "output_type": "stream",
     "text": [
      "/home/rdass/pythonProjects/sandbox2\n"
     ]
    }
   ],
   "source": [
    "print os.environ['PYTHONPATH']"
   ]
  },
  {
   "cell_type": "code",
   "execution_count": 9,
   "metadata": {
    "collapsed": false
   },
   "outputs": [
    {
     "ename": "ImportError",
     "evalue": "No module named sandbox2.hello1",
     "output_type": "error",
     "traceback": [
      "\u001b[1;31m---------------------------------------------------------------------------\u001b[0m",
      "\u001b[1;31mImportError\u001b[0m                               Traceback (most recent call last)",
      "\u001b[1;32m/home/rdass/pythonProjects/sandbox/hello.py\u001b[0m in \u001b[0;36m<module>\u001b[1;34m()\u001b[0m\n\u001b[0;32m      9\u001b[0m \u001b[1;33m\u001b[0m\u001b[0m\n\u001b[0;32m     10\u001b[0m \u001b[1;33m\u001b[0m\u001b[0m\n\u001b[1;32m---> 11\u001b[1;33m \u001b[1;32mfrom\u001b[0m \u001b[0msandbox2\u001b[0m\u001b[1;33m.\u001b[0m\u001b[0mhello1\u001b[0m \u001b[1;32mimport\u001b[0m \u001b[0mprintHello\u001b[0m\u001b[1;33m\u001b[0m\u001b[0m\n\u001b[0m\u001b[0;32m     12\u001b[0m \u001b[1;33m\u001b[0m\u001b[0m\n\u001b[0;32m     13\u001b[0m \u001b[0mprintHello\u001b[0m\u001b[1;33m(\u001b[0m\u001b[1;33m)\u001b[0m\u001b[1;33m\u001b[0m\u001b[0m\n",
      "\u001b[1;31mImportError\u001b[0m: No module named sandbox2.hello1"
     ]
    }
   ],
   "source": [
    "%run hello.py"
   ]
  },
  {
   "cell_type": "code",
   "execution_count": null,
   "metadata": {
    "collapsed": true
   },
   "outputs": [],
   "source": []
  }
 ],
 "metadata": {
  "kernelspec": {
   "display_name": "Python 2",
   "language": "python",
   "name": "python2"
  },
  "language_info": {
   "codemirror_mode": {
    "name": "ipython",
    "version": 2
   },
   "file_extension": ".py",
   "mimetype": "text/x-python",
   "name": "python",
   "nbconvert_exporter": "python",
   "pygments_lexer": "ipython2",
   "version": "2.7.11"
  }
 },
 "nbformat": 4,
 "nbformat_minor": 0
}
